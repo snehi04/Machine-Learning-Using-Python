{
  "nbformat": 4,
  "nbformat_minor": 0,
  "metadata": {
    "colab": {
      "name": "SVM_Implementation.ipynb",
      "version": "0.3.2",
      "provenance": [],
      "toc_visible": true,
      "include_colab_link": true
    },
    "kernelspec": {
      "name": "python3",
      "display_name": "Python 3"
    }
  },
  "cells": [
    {
      "cell_type": "markdown",
      "metadata": {
        "id": "view-in-github",
        "colab_type": "text"
      },
      "source": [
        "<a href=\"https://colab.research.google.com/github/snehi04/Machine-Learning-Using-Python/blob/master/SVM_Implementation.ipynb\" target=\"_parent\"><img src=\"https://colab.research.google.com/assets/colab-badge.svg\" alt=\"Open In Colab\"/></a>"
      ]
    },
    {
      "metadata": {
        "id": "jKe_AXklh8t4",
        "colab_type": "text"
      },
      "cell_type": "markdown",
      "source": [
        "# SVM Implementation on IRIS Dataset"
      ]
    },
    {
      "metadata": {
        "id": "aajzLhggskIt",
        "colab_type": "code",
        "colab": {}
      },
      "cell_type": "code",
      "source": [
        "from sklearn.model_selection import train_test_split \n",
        "from sklearn.model_selection import cross_val_score \n",
        "from sklearn import datasets \n",
        "from sklearn import svm"
      ],
      "execution_count": 0,
      "outputs": []
    },
    {
      "metadata": {
        "id": "U9JL-uerBmu3",
        "colab_type": "code",
        "colab": {}
      },
      "cell_type": "code",
      "source": [
        "#Loading Data\n",
        "iris = datasets.load_iris() "
      ],
      "execution_count": 0,
      "outputs": []
    },
    {
      "metadata": {
        "id": "iS_bJoovBq5q",
        "colab_type": "code",
        "colab": {}
      },
      "cell_type": "code",
      "source": [
        "print(iris.data.shape,iris.target.shape)"
      ],
      "execution_count": 0,
      "outputs": []
    },
    {
      "metadata": {
        "id": "7w6CanRBBzZ2",
        "colab_type": "code",
        "colab": {}
      },
      "cell_type": "code",
      "source": [
        "#Test Train Dataset Creation\n",
        "X_train, X_test, y_train, y_test = train_test_split(iris.data, iris.target, test_size=0.3, random_state=1) \n",
        "print (X_train.shape, y_train.shape) \n",
        "print (X_test.shape, y_test.shape)"
      ],
      "execution_count": 0,
      "outputs": []
    },
    {
      "metadata": {
        "id": "4NaVc20eBM6L",
        "colab_type": "code",
        "colab": {}
      },
      "cell_type": "code",
      "source": [
        "#SVM Implementation when kernal is set to Linear\n",
        "clf = svm.SVC(kernel='linear', C=1).fit(X_train, y_train) \n",
        "print(clf.score(X_test, y_test))"
      ],
      "execution_count": 0,
      "outputs": []
    },
    {
      "metadata": {
        "id": "E9Uv-5UyCMKH",
        "colab_type": "code",
        "colab": {}
      },
      "cell_type": "code",
      "source": [
        "#Implementing Cross-Validation and Accuracy\n",
        "scores = cross_val_score(clf, iris.data, iris.target, cv=5) \n",
        "print(scores) \n",
        "print(\"Accuracy: %0.2f (+/- %0.2f)\" % (scores.mean(), scores.std() * 2))"
      ],
      "execution_count": 0,
      "outputs": []
    },
    {
      "metadata": {
        "id": "Rfdzlf7CgRDn",
        "colab_type": "code",
        "colab": {}
      },
      "cell_type": "code",
      "source": [
        "#Implementing SVM when kernal is set to Polynomial\n",
        "clf1 = svm.SVC(kernel='poly', C=1).fit(X_train, y_train) \n",
        "print(clf.score(X_test, y_test))"
      ],
      "execution_count": 0,
      "outputs": []
    },
    {
      "metadata": {
        "id": "nmLQKwThgqQl",
        "colab_type": "code",
        "colab": {}
      },
      "cell_type": "code",
      "source": [
        "#Implementing Cross-Validation and Accuracy Score\n",
        "scores = cross_val_score(clf1, iris.data, iris.target, cv=5) \n",
        "print(scores) \n",
        "print(\"Accuracy: %0.2f (+/- %0.2f)\" % (scores.mean(), scores.std() * 2))"
      ],
      "execution_count": 0,
      "outputs": []
    },
    {
      "metadata": {
        "id": "JY6lHr3tg1Vb",
        "colab_type": "code",
        "colab": {}
      },
      "cell_type": "code",
      "source": [
        "#Implementing SVM when kernal is set to RBF\n",
        "clf2 = svm.SVC(kernel='rbf', gamma=0.001, C=0.001).fit(X_train, y_train) \n",
        "print(clf.score(X_test, y_test))"
      ],
      "execution_count": 0,
      "outputs": []
    },
    {
      "metadata": {
        "id": "_nkeN2mrhAVu",
        "colab_type": "code",
        "colab": {}
      },
      "cell_type": "code",
      "source": [
        "#Implementing Cross-Validation and Accuracy Score\n",
        "scores = cross_val_score(clf2, iris.data, iris.target, cv=5) \n",
        "print(scores) \n",
        "print(\"Accuracy: %0.2f (+/- %0.2f)\" % (scores.mean(), scores.std() * 2))"
      ],
      "execution_count": 0,
      "outputs": []
    },
    {
      "metadata": {
        "id": "E_Jb0zwfhsp5",
        "colab_type": "text"
      },
      "cell_type": "markdown",
      "source": [
        "# SVM Implementation on Boston Dataset"
      ]
    },
    {
      "metadata": {
        "id": "_NYxIJ-zsl03",
        "colab_type": "code",
        "colab": {}
      },
      "cell_type": "code",
      "source": [
        "from sklearn.model_selection import train_test_split \n",
        "from sklearn.model_selection import cross_val_score \n",
        "from sklearn import datasets \n",
        "from sklearn import svm"
      ],
      "execution_count": 0,
      "outputs": []
    },
    {
      "metadata": {
        "id": "dcRRq3c7j5mj",
        "colab_type": "code",
        "colab": {}
      },
      "cell_type": "code",
      "source": [
        "#Loading Data\n",
        "boston = datasets.load_boston()"
      ],
      "execution_count": 0,
      "outputs": []
    },
    {
      "metadata": {
        "id": "1a4QhIZPkBow",
        "colab_type": "code",
        "colab": {}
      },
      "cell_type": "code",
      "source": [
        "print(boston.data.shape,boston.target.shape)"
      ],
      "execution_count": 0,
      "outputs": []
    },
    {
      "metadata": {
        "id": "fcBIsa_KkL1t",
        "colab_type": "code",
        "colab": {}
      },
      "cell_type": "code",
      "source": [
        "#Test Train Dataset Creation\n",
        "X1_train, X1_test, y1_train, y1_test = train_test_split(boston.data, boston.target, test_size=0.3, random_state=1) \n",
        "print (X1_train.shape, y1_train.shape) \n",
        "print (X1_test.shape, y1_test.shape)"
      ],
      "execution_count": 0,
      "outputs": []
    },
    {
      "metadata": {
        "id": "sYDKOfJZkX1l",
        "colab_type": "code",
        "colab": {}
      },
      "cell_type": "code",
      "source": [
        "#Implementing SVM Regressor when kernal is set to linear\n",
        "clr = svm.SVR(kernel='linear', C=1).fit(X1_train, y1_train) \n",
        "print(clr.score(X1_test, y1_test))"
      ],
      "execution_count": 0,
      "outputs": []
    },
    {
      "metadata": {
        "id": "XwZvifQUcUIK",
        "colab_type": "code",
        "colab": {}
      },
      "cell_type": "code",
      "source": [
        "#Implementing SVM when kernal is set to Polynomial\n",
        "clr1 = svm.SVR(kernel='poly', C=1).fit(X1_train, y1_train) \n",
        "print(clr1.score(X1_test, y1_test))"
      ],
      "execution_count": 0,
      "outputs": []
    },
    {
      "metadata": {
        "id": "24_P2ezUt05_",
        "colab_type": "code",
        "colab": {}
      },
      "cell_type": "code",
      "source": [
        "#Implementing SVM Regressor when kernal is set to linear\n",
        "clr2 = svm.SVR(kernel='rbf',gamma=0.001, C=1).fit(X1_train, y1_train) \n",
        "print(clr2.score(X1_test, y1_test))"
      ],
      "execution_count": 0,
      "outputs": []
    },
    {
      "metadata": {
        "id": "Hmg1GAAVvl9A",
        "colab_type": "text"
      },
      "cell_type": "markdown",
      "source": [
        "# SVM Implementation on Census Dataset"
      ]
    },
    {
      "metadata": {
        "id": "OaNLsfNkvusT",
        "colab_type": "code",
        "colab": {}
      },
      "cell_type": "code",
      "source": [
        "import numpy as np\n",
        "import pandas as pd\n",
        "from sklearn import datasets\n",
        "from sklearn.utils import shuffle\n",
        "from sklearn.preprocessing import LabelEncoder\n",
        "from sklearn.model_selection import train_test_split\n",
        "from sklearn.preprocessing import LabelBinarizer\n",
        "from sklearn.preprocessing import StandardScaler\n",
        "from sklearn.metrics import classification_report, confusion_matrix \n",
        "from google.colab import files \n",
        "from sklearn import svm"
      ],
      "execution_count": 0,
      "outputs": []
    },
    {
      "metadata": {
        "id": "V8kW0WlOwb79",
        "colab_type": "code",
        "colab": {}
      },
      "cell_type": "code",
      "source": [
        "#File has to be uploaded in the files section and we can read the csv further\n",
        "up = pd.read_csv('adult.csv')"
      ],
      "execution_count": 0,
      "outputs": []
    },
    {
      "metadata": {
        "id": "w6OkWARUwil5",
        "colab_type": "code",
        "colab": {}
      },
      "cell_type": "code",
      "source": [
        "up.head()"
      ],
      "execution_count": 0,
      "outputs": []
    },
    {
      "metadata": {
        "id": "v9nMCVH37olv",
        "colab_type": "code",
        "colab": {}
      },
      "cell_type": "code",
      "source": [
        "#Conversion of \"unusual\" datatype to int data-type\n",
        "up['income'] = up['income'].map({'<=50K': 0, '>50K': 1}).astype(int)"
      ],
      "execution_count": 0,
      "outputs": []
    },
    {
      "metadata": {
        "id": "xtqvqPVlwms6",
        "colab_type": "code",
        "colab": {}
      },
      "cell_type": "code",
      "source": [
        "#Conversion of categorical to indicator variable\n",
        "data_transformed = pd.get_dummies(up, columns=['workclass', 'education', 'education.num', 'marital.status', 'occupation', 'relationship', 'race', 'sex', 'native.country'])"
      ],
      "execution_count": 0,
      "outputs": []
    },
    {
      "metadata": {
        "id": "2OzHKmVnDAoE",
        "colab_type": "code",
        "colab": {}
      },
      "cell_type": "code",
      "source": [
        "#Features on which algorithm will be trained\n",
        "X=up[['education.num','age','hours.per.week']].values\n",
        "y= up[['income']].values"
      ],
      "execution_count": 0,
      "outputs": []
    },
    {
      "metadata": {
        "id": "ReQ1hfMcw8hw",
        "colab_type": "code",
        "colab": {}
      },
      "cell_type": "code",
      "source": [
        "#Test and Training Dataset Creation\n",
        "X_train, X_test, y_train, y_test = train_test_split(X ,y, test_size=0.3, random_state=4)"
      ],
      "execution_count": 0,
      "outputs": []
    },
    {
      "metadata": {
        "id": "JW5MGZDdC28o",
        "colab_type": "code",
        "colab": {}
      },
      "cell_type": "code",
      "source": [
        "#SVM Implementation when kernal is set to Linear\n",
        "clf = svm.SVC(kernel='linear', C=1).fit(X_train, y_train) \n",
        "print(clf.score(X_test, y_test))"
      ],
      "execution_count": 0,
      "outputs": []
    },
    {
      "metadata": {
        "id": "K04Jf9M4ESZA",
        "colab_type": "code",
        "colab": {}
      },
      "cell_type": "code",
      "source": [
        "#Implementing Cross-Validation and Accuracy\n",
        "scores = cross_val_score(clf, iris.data, iris.target, cv=5) \n",
        "print(scores) \n",
        "print(\"Accuracy: %0.2f (+/- %0.2f)\" % (scores.mean(), scores.std() * 2))"
      ],
      "execution_count": 0,
      "outputs": []
    },
    {
      "metadata": {
        "id": "X5ysMA5KED9a",
        "colab_type": "code",
        "colab": {}
      },
      "cell_type": "code",
      "source": [
        "#Implementing SVM when kernal is set to Polynomial\n",
        "clf1 = svm.SVC(kernel='poly', C=1).fit(X_train, y_train) \n",
        "print(clf.score(X_test, y_test))"
      ],
      "execution_count": 0,
      "outputs": []
    },
    {
      "metadata": {
        "id": "zFKqOFvNEU21",
        "colab_type": "code",
        "colab": {}
      },
      "cell_type": "code",
      "source": [
        "#Implementing Cross-Validation and Accuracy\n",
        "scores = cross_val_score(clf1, iris.data, iris.target, cv=5) \n",
        "print(scores) \n",
        "print(\"Accuracy: %0.2f (+/- %0.2f)\" % (scores.mean(), scores.std() * 2))"
      ],
      "execution_count": 0,
      "outputs": []
    },
    {
      "metadata": {
        "id": "Uf7Sdir0EL1v",
        "colab_type": "code",
        "colab": {}
      },
      "cell_type": "code",
      "source": [
        "#Implementing SVM when kernal is set to RBF\n",
        "clf2 = svm.SVC(kernel='rbf', gamma=0.001, C=0.001).fit(X_train, y_train) \n",
        "print(clf.score(X_test, y_test))"
      ],
      "execution_count": 0,
      "outputs": []
    },
    {
      "metadata": {
        "id": "-FkJgqwrEYzp",
        "colab_type": "code",
        "colab": {}
      },
      "cell_type": "code",
      "source": [
        "#Implementing Cross-Validation and Accuracy\n",
        "scores = cross_val_score(clf2, iris.data, iris.target, cv=5) \n",
        "print(scores) \n",
        "print(\"Accuracy: %0.2f (+/- %0.2f)\" % (scores.mean(), scores.std() * 2))"
      ],
      "execution_count": 0,
      "outputs": []
    }
  ]
}