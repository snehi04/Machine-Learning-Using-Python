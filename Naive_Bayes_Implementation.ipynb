{
  "nbformat": 4,
  "nbformat_minor": 0,
  "metadata": {
    "colab": {
      "name": "Naive-Bayes_Implementation",
      "version": "0.3.2",
      "provenance": [],
      "collapsed_sections": [],
      "include_colab_link": true
    },
    "kernelspec": {
      "name": "python3",
      "display_name": "Python 3"
    }
  },
  "cells": [
    {
      "cell_type": "markdown",
      "metadata": {
        "id": "view-in-github",
        "colab_type": "text"
      },
      "source": [
        "<a href=\"https://colab.research.google.com/github/snehi04/Machine-Learning-Using-Python/blob/master/Naive_Bayes_Implementation.ipynb\" target=\"_parent\"><img src=\"https://colab.research.google.com/assets/colab-badge.svg\" alt=\"Open In Colab\"/></a>"
      ]
    },
    {
      "metadata": {
        "id": "6gxdvU4umAWp",
        "colab_type": "code",
        "colab": {
          "base_uri": "https://localhost:8080/",
          "height": 68
        },
        "outputId": "91884da6-d2b0-472b-9cfe-4d9e5965d9f8"
      },
      "cell_type": "code",
      "source": [
        "!apt-get -qq install -y graphviz && pip install -q pydot\n",
        "!pip install graphviz\n",
        "!pip install pydot"
      ],
      "execution_count": 5,
      "outputs": [
        {
          "output_type": "stream",
          "text": [
            "Requirement already satisfied: graphviz in /usr/local/lib/python3.6/dist-packages (0.9)\n",
            "Requirement already satisfied: pydot in /usr/local/lib/python3.6/dist-packages (1.2.4)\n",
            "Requirement already satisfied: pyparsing>=2.1.4 in /usr/local/lib/python3.6/dist-packages (from pydot) (2.2.0)\n"
          ],
          "name": "stdout"
        }
      ]
    },
    {
      "metadata": {
        "id": "7aVWBBAhmI_s",
        "colab_type": "code",
        "colab": {}
      },
      "cell_type": "code",
      "source": [
        "#Importing Packages\n",
        "import pandas as pd\n",
        "from sklearn import datasets\n",
        "from matplotlib import pyplot\n",
        "from matplotlib import pyplot\n",
        "from matplotlib import pylab\n",
        "import numpy as np\n",
        "from sklearn.feature_extraction.text import CountVectorizer\n",
        "from sklearn.feature_extraction.text import TfidfVectorizer\n",
        "from sklearn.tree import DecisionTreeClassifier\n",
        "from sklearn.tree import DecisionTreeRegressor\n",
        "from sklearn.tree import export_graphviz\n",
        "from sklearn.naive_bayes import MultinomialNB\n",
        "from sklearn.naive_bayes import GaussianNB\n",
        "from sklearn.linear_model import LogisticRegression\n",
        "from sklearn.linear_model import LinearRegression\n",
        "from sklearn.model_selection import train_test_split\n",
        "from sklearn.metrics import confusion_matrix\n",
        "from sklearn.metrics import mean_squared_error\n",
        "from pydot import graph_from_dot_data\n",
        "#https://archive.ics.uci.edu/ml/machine-learning-databases/00228/smsspamcollection.zip"
      ],
      "execution_count": 0,
      "outputs": []
    },
    {
      "metadata": {
        "id": "yBw5OgMGm7Mg",
        "colab_type": "code",
        "colab": {}
      },
      "cell_type": "code",
      "source": [
        "#Test and Train Dataset Creation\n",
        "data_train = datasets.fetch_20newsgroups(subset='train')\n",
        "data_test = datasets.fetch_20newsgroups(subset='test')\n"
      ],
      "execution_count": 0,
      "outputs": []
    },
    {
      "metadata": {
        "id": "MUwUyQG205Tz",
        "colab_type": "code",
        "colab": {
          "base_uri": "https://localhost:8080/",
          "height": 34
        },
        "outputId": "890d90ff-553e-4d03-929e-6907c7434634"
      },
      "cell_type": "code",
      "source": [
        "data_20"
      ],
      "execution_count": 0,
      "outputs": [
        {
          "output_type": "execute_result",
          "data": {
            "text/plain": [
              "<function sklearn.datasets.twenty_newsgroups.fetch_20newsgroups>"
            ]
          },
          "metadata": {
            "tags": []
          },
          "execution_count": 56
        }
      ]
    },
    {
      "metadata": {
        "id": "XMKNqZHjoAPZ",
        "colab_type": "code",
        "colab": {}
      },
      "cell_type": "code",
      "source": [
        "data_train.data[:10]"
      ],
      "execution_count": 0,
      "outputs": []
    },
    {
      "metadata": {
        "id": "xQOxQ1gK148V",
        "colab_type": "code",
        "colab": {}
      },
      "cell_type": "code",
      "source": [
        "print(vectors_train.shape)\n",
        "print(vectors_test.shape)"
      ],
      "execution_count": 0,
      "outputs": []
    },
    {
      "metadata": {
        "id": "k8k-2y4entTg",
        "colab_type": "code",
        "colab": {}
      },
      "cell_type": "code",
      "source": [
        "data_train = datasets.fetch_20newsgroups(subset='train', remove=('headers', 'footers', 'quotes'))"
      ],
      "execution_count": 0,
      "outputs": []
    },
    {
      "metadata": {
        "id": "mA8ZdB_SooJu",
        "colab_type": "code",
        "colab": {}
      },
      "cell_type": "code",
      "source": [
        "data_train.data[:10]"
      ],
      "execution_count": 0,
      "outputs": []
    },
    {
      "metadata": {
        "id": "GeUHkUmSo9Gq",
        "colab_type": "code",
        "colab": {}
      },
      "cell_type": "code",
      "source": [
        "#Conversion of text data into vectors\n",
        "vectorizer = CountVectorizer()\n",
        "vectors_train20=vectorizer.fit_transform(data_train.data)\n",
        "vectors_test20=vectorizer.transform(data_test.data)"
      ],
      "execution_count": 0,
      "outputs": []
    },
    {
      "metadata": {
        "id": "JKjqJJp3yNnK",
        "colab_type": "code",
        "colab": {
          "base_uri": "https://localhost:8080/",
          "height": 34
        },
        "outputId": "d06434a9-4cde-4fd5-d5ba-8b9cf1b5d736"
      },
      "cell_type": "code",
      "source": [
        "#Implmentation of Multinomial Naive Bayes\n",
        "nb = MultinomialNB(alpha=.1)\n",
        "nb.fit(vectors_train20, data_train.target)"
      ],
      "execution_count": 79,
      "outputs": [
        {
          "output_type": "execute_result",
          "data": {
            "text/plain": [
              "MultinomialNB(alpha=0.1, class_prior=None, fit_prior=True)"
            ]
          },
          "metadata": {
            "tags": []
          },
          "execution_count": 79
        }
      ]
    },
    {
      "metadata": {
        "id": "u59l8Y_01o7_",
        "colab_type": "code",
        "colab": {}
      },
      "cell_type": "code",
      "source": [
        "#Confusion Matrix to predict visualization\n",
        "confusion_matrix(nb.predict(vectors_test20), data_test.target)"
      ],
      "execution_count": 0,
      "outputs": []
    },
    {
      "metadata": {
        "id": "BY8TeB3ZyxGb",
        "colab_type": "code",
        "colab": {}
      },
      "cell_type": "code",
      "source": [
        "#Implementing Tf-Idf Vectorizer and Checking the accuracy\n",
        "vectorizer1 = TfidfVectorizer()\n",
        "vectors_train1 = vectorizer1.fit_transform(data_train.data)\n",
        "vectors_test1 = vectorizer1.transform(data_test.data)"
      ],
      "execution_count": 0,
      "outputs": []
    },
    {
      "metadata": {
        "id": "p77eYfjA9o6o",
        "colab_type": "code",
        "colab": {
          "base_uri": "https://localhost:8080/",
          "height": 51
        },
        "outputId": "62f753ce-0dca-4899-97cd-404d44e2d1f1"
      },
      "cell_type": "code",
      "source": [
        "print(vectors_train1.shape)\n",
        "print(vectors_test1.shape)"
      ],
      "execution_count": 82,
      "outputs": [
        {
          "output_type": "stream",
          "text": [
            "(11314, 101631)\n",
            "(7532, 93564)\n"
          ],
          "name": "stdout"
        }
      ]
    },
    {
      "metadata": {
        "id": "vY4uOLfh-UMi",
        "colab_type": "code",
        "colab": {}
      },
      "cell_type": "code",
      "source": [
        "print(vectors_train1)"
      ],
      "execution_count": 0,
      "outputs": []
    },
    {
      "metadata": {
        "id": "x2M_74cj-I_z",
        "colab_type": "code",
        "colab": {
          "base_uri": "https://localhost:8080/",
          "height": 34
        },
        "outputId": "04933a68-3171-409d-8825-7836f7c82a7a"
      },
      "cell_type": "code",
      "source": [
        "#Naive Bayes Implementation\n",
        "nb = MultinomialNB(alpha=.1)\n",
        "nb.fit(vectors_train1, data_train.target)"
      ],
      "execution_count": 91,
      "outputs": [
        {
          "output_type": "execute_result",
          "data": {
            "text/plain": [
              "MultinomialNB(alpha=0.1, class_prior=None, fit_prior=True)"
            ]
          },
          "metadata": {
            "tags": []
          },
          "execution_count": 91
        }
      ]
    },
    {
      "metadata": {
        "id": "w6xHijk81aXM",
        "colab_type": "code",
        "colab": {}
      },
      "cell_type": "code",
      "source": [
        "#Confusion Matrix to check the accuracy\n",
        "confusion_matrix(nb.predict(vectors_test1), data_test.target)"
      ],
      "execution_count": 0,
      "outputs": []
    },
    {
      "metadata": {
        "id": "wTbj2iba4E2C",
        "colab_type": "code",
        "colab": {}
      },
      "cell_type": "code",
      "source": [
        ""
      ],
      "execution_count": 0,
      "outputs": []
    },
    {
      "metadata": {
        "id": "Q0uu-y0Hn1b9",
        "colab_type": "text"
      },
      "cell_type": "markdown",
      "source": [
        "**When we use tf-idf vectoriser, performance of the model has improved.**"
      ]
    },
    {
      "metadata": {
        "id": "vLM2jnzcB5fC",
        "colab_type": "text"
      },
      "cell_type": "markdown",
      "source": [
        "\n",
        "\n",
        "```\n",
        "\n",
        "```\n",
        "\n",
        "**Spam or Ham**\n",
        "\n",
        "Checking the Model Accuracy on Spam or Ham Dataset of Logistic, Decision Tree and Naive Bayes"
      ]
    },
    {
      "metadata": {
        "id": "wikMidquKgs5",
        "colab_type": "code",
        "colab": {}
      },
      "cell_type": "code",
      "source": [
        "def fetch_sms_spam():\n",
        "  import requests # requests is a handy http library\n",
        "  import zipfile # a zip library\n",
        "  r=requests.get('http://www.dt.fee.unicamp.br/~tiago/smsspamcollection/smsspamcollection.zip')\n",
        "  # I know of know way to get data out of a zipfile without saving to disk extracting and reading in, sigh\n",
        "  zf=open('smsspam.zip','wb')\n",
        "  zf.write(r.content)\n",
        "  zip_ref = zipfile.ZipFile('smsspam.zip', 'r')\n",
        "  zip_ref.extractall('smsspam')\n",
        "  zip_ref.close()\n",
        "  zf.close\n",
        "  sms_file=open('smsspam/SMSSpamCollection.txt','r')\n",
        "  #object to return\n",
        "  data = {'data':[], 'target':[], 'target_classes': ['ham', 'spam']}\n",
        "  # First tab splits the class and the SMS message\n",
        "  for line in sms_file:\n",
        "    idx = line.find('\\t')\n",
        "    target = line[:idx]\n",
        "    doc = line[idx+1:]\n",
        "    data['data'] += [doc]\n",
        "    if target == 'ham': data['target'] += [0]\n",
        "    else: data['target'] += [1]\n",
        "  sms_file.close()\n",
        "  return data"
      ],
      "execution_count": 0,
      "outputs": []
    },
    {
      "metadata": {
        "id": "wozgP865Nrqf",
        "colab_type": "code",
        "colab": {}
      },
      "cell_type": "code",
      "source": [
        "#Fetching Dataset\n",
        "data1 = fetch_sms_spam()"
      ],
      "execution_count": 0,
      "outputs": []
    },
    {
      "metadata": {
        "id": "zmomOkD8NwIa",
        "colab_type": "code",
        "colab": {}
      },
      "cell_type": "code",
      "source": [
        "data1"
      ],
      "execution_count": 0,
      "outputs": []
    },
    {
      "metadata": {
        "id": "2UGVDwhYraip",
        "colab_type": "code",
        "colab": {}
      },
      "cell_type": "code",
      "source": [
        "#Splitting Data into Test and Train Data\n",
        "X_train, X_test = train_test_split(data1['data'], random_state=3)\n",
        "y_train, y_test = train_test_split(data1['target'], random_state=3)"
      ],
      "execution_count": 0,
      "outputs": []
    },
    {
      "metadata": {
        "id": "7pQ6H7UXN9sc",
        "colab_type": "code",
        "colab": {}
      },
      "cell_type": "code",
      "source": [
        "#Converting text into vectorizer\n",
        "vectorizer2 = CountVectorizer()\n",
        "vectors_train2=vectorizer2.fit_transform(X_train)\n",
        "vectors_test2=vectorizer2.transform(X_test)"
      ],
      "execution_count": 0,
      "outputs": []
    },
    {
      "metadata": {
        "id": "JCPlM8nMO52l",
        "colab_type": "code",
        "colab": {
          "base_uri": "https://localhost:8080/",
          "height": 51
        },
        "outputId": "2f235524-a5e1-4f3a-8096-d01ef5173c88"
      },
      "cell_type": "code",
      "source": [
        "print(vectors_train2.shape)\n",
        "print(vectors_test2.shape)"
      ],
      "execution_count": 30,
      "outputs": [
        {
          "output_type": "stream",
          "text": [
            "(4180, 7520)\n",
            "(1394, 7520)\n"
          ],
          "name": "stdout"
        }
      ]
    },
    {
      "metadata": {
        "id": "-PCNmhjiPBQn",
        "colab_type": "code",
        "colab": {}
      },
      "cell_type": "code",
      "source": [
        "print(vectors_train2)"
      ],
      "execution_count": 0,
      "outputs": []
    },
    {
      "metadata": {
        "id": "tSdDbvdBW53r",
        "colab_type": "code",
        "colab": {}
      },
      "cell_type": "code",
      "source": [
        "print(vectorizer.vocabulary_)"
      ],
      "execution_count": 0,
      "outputs": []
    },
    {
      "metadata": {
        "id": "lO2VIyxyP-hc",
        "colab_type": "code",
        "colab": {
          "base_uri": "https://localhost:8080/",
          "height": 34
        },
        "outputId": "7e191a72-dd1c-4003-d506-de8a6720ab6b"
      },
      "cell_type": "code",
      "source": [
        "#Implementing Naive Bayes\n",
        "nb = MultinomialNB(alpha=.1)\n",
        "nb.fit(vectors_train2, y_train)"
      ],
      "execution_count": 19,
      "outputs": [
        {
          "output_type": "execute_result",
          "data": {
            "text/plain": [
              "MultinomialNB(alpha=0.1, class_prior=None, fit_prior=True)"
            ]
          },
          "metadata": {
            "tags": []
          },
          "execution_count": 19
        }
      ]
    },
    {
      "metadata": {
        "id": "8WPkl4YVpDLz",
        "colab_type": "code",
        "colab": {
          "base_uri": "https://localhost:8080/",
          "height": 51
        },
        "outputId": "fc507398-3854-48b1-c226-82a7270a6a8d"
      },
      "cell_type": "code",
      "source": [
        "#Confusion Matrix ro check the accuracy\n",
        "confusion_matrix(nb.predict(vectors_test2) , y_test)"
      ],
      "execution_count": 39,
      "outputs": [
        {
          "output_type": "execute_result",
          "data": {
            "text/plain": [
              "array([[1207,   12],\n",
              "       [  11,  164]])"
            ]
          },
          "metadata": {
            "tags": []
          },
          "execution_count": 39
        }
      ]
    },
    {
      "metadata": {
        "id": "wKNYMpaOvzC9",
        "colab_type": "text"
      },
      "cell_type": "markdown",
      "source": [
        "**Decision Tree**"
      ]
    },
    {
      "metadata": {
        "id": "_D8oGWZfPEPC",
        "colab_type": "code",
        "colab": {
          "base_uri": "https://localhost:8080/",
          "height": 119
        },
        "outputId": "bb8865af-39a7-41fa-f4ce-7541589f9506"
      },
      "cell_type": "code",
      "source": [
        "#Initializing Decision Tree\n",
        "tree = DecisionTreeClassifier()\n",
        "tree.fit(vectors_train2, y_train)"
      ],
      "execution_count": 40,
      "outputs": [
        {
          "output_type": "execute_result",
          "data": {
            "text/plain": [
              "DecisionTreeClassifier(class_weight=None, criterion='gini', max_depth=None,\n",
              "            max_features=None, max_leaf_nodes=None,\n",
              "            min_impurity_decrease=0.0, min_impurity_split=None,\n",
              "            min_samples_leaf=1, min_samples_split=2,\n",
              "            min_weight_fraction_leaf=0.0, presort=False, random_state=None,\n",
              "            splitter='best')"
            ]
          },
          "metadata": {
            "tags": []
          },
          "execution_count": 40
        }
      ]
    },
    {
      "metadata": {
        "id": "NKLHKZksoRD1",
        "colab_type": "code",
        "colab": {
          "base_uri": "https://localhost:8080/",
          "height": 51
        },
        "outputId": "3c4d639c-1059-44f1-8f98-681e86c9af8d"
      },
      "cell_type": "code",
      "source": [
        "#Confusion Matrix to check the accuracy\n",
        "confusion_matrix(tree.predict(vectors_test2),y_test)"
      ],
      "execution_count": 41,
      "outputs": [
        {
          "output_type": "execute_result",
          "data": {
            "text/plain": [
              "array([[1200,   34],\n",
              "       [  18,  142]])"
            ]
          },
          "metadata": {
            "tags": []
          },
          "execution_count": 41
        }
      ]
    },
    {
      "metadata": {
        "id": "fAFTPwRlvsdY",
        "colab_type": "text"
      },
      "cell_type": "markdown",
      "source": [
        "**Logistic Regression**"
      ]
    },
    {
      "metadata": {
        "id": "ttxihP6mvxCz",
        "colab_type": "code",
        "colab": {
          "base_uri": "https://localhost:8080/",
          "height": 85
        },
        "outputId": "30e2004a-ce8d-4aa7-de2b-b2a8c2fe6528"
      },
      "cell_type": "code",
      "source": [
        "#Implementing Logistic Regression\n",
        "lr = LogisticRegression()\n",
        "lr.fit((vectors_train2),y_train)"
      ],
      "execution_count": 42,
      "outputs": [
        {
          "output_type": "execute_result",
          "data": {
            "text/plain": [
              "LogisticRegression(C=1.0, class_weight=None, dual=False, fit_intercept=True,\n",
              "          intercept_scaling=1, max_iter=100, multi_class='ovr', n_jobs=1,\n",
              "          penalty='l2', random_state=None, solver='liblinear', tol=0.0001,\n",
              "          verbose=0, warm_start=False)"
            ]
          },
          "metadata": {
            "tags": []
          },
          "execution_count": 42
        }
      ]
    },
    {
      "metadata": {
        "id": "v_5z6ALZwM-F",
        "colab_type": "code",
        "colab": {
          "base_uri": "https://localhost:8080/",
          "height": 51
        },
        "outputId": "f6228849-e313-4ded-dcf3-d5d4682e3e11"
      },
      "cell_type": "code",
      "source": [
        "#Confusion Matrix to Check the accuracy\n",
        "confusion_matrix(lr.predict(vectors_test2),y_test)"
      ],
      "execution_count": 44,
      "outputs": [
        {
          "output_type": "execute_result",
          "data": {
            "text/plain": [
              "array([[1216,   27],\n",
              "       [   2,  149]])"
            ]
          },
          "metadata": {
            "tags": []
          },
          "execution_count": 44
        }
      ]
    },
    {
      "metadata": {
        "id": "j27CopDcw328",
        "colab_type": "text"
      },
      "cell_type": "markdown",
      "source": [
        "It shows that Naive Bayes performed best on the dataset, while Decision Tree performed worst."
      ]
    }
  ]
}